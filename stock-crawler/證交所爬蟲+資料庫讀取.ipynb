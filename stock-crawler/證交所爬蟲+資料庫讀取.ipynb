{
  "nbformat": 4,
  "nbformat_minor": 0,
  "metadata": {
    "colab": {
      "provenance": [],
      "toc_visible": true
    },
    "kernelspec": {
      "name": "python3",
      "display_name": "Python 3"
    },
    "language_info": {
      "name": "python"
    }
  },
  "cells": [
    {
      "cell_type": "markdown",
      "source": [
        "- reference: https://www.learncodewithmike.com/2021/08/python-scraper-read-sqlite-database.html"
      ],
      "metadata": {
        "id": "72dGJqMpdx53"
      }
    },
    {
      "cell_type": "markdown",
      "source": [
        "## 爬取臺灣證交所的個股日成交資訊\n",
        "1. 分析網頁結構\n",
        "2. 開發Python網頁爬蟲\n",
        "3. 建置SQLite資料庫\n",
        "4. Python網頁爬蟲讀取資料庫"
      ],
      "metadata": {
        "id": "D6CXsHCR7GYG"
      }
    },
    {
      "cell_type": "code",
      "execution_count": null,
      "metadata": {
        "colab": {
          "base_uri": "https://localhost:8080/"
        },
        "id": "S2SzuqDedDG6",
        "outputId": "ba99aad0-f6b7-428a-db29-4fee5d6894d8"
      },
      "outputs": [
        {
          "output_type": "stream",
          "name": "stdout",
          "text": [
            "[['112/09/01', '15,194,921', '8,331,995,536', '543.00', '553.00', '543.00', '548.00', '-1.00', '12,739'], ['112/09/04', '9,772,925', '5,412,329,762', '549.00', '557.00', '549.00', '557.00', '+9.00', '12,158'], ['112/09/05', '14,337,041', '7,911,531,475', '553.00', '555.00', '550.00', '552.00', '-5.00', '13,714'], ['112/09/06', '14,442,757', '7,972,706,415', '556.00', '556.00', '550.00', '550.00', '-2.00', '12,752'], ['112/09/07', '22,610,385', '12,305,542,681', '546.00', '548.00', '542.00', '542.00', '-8.00', '41,564'], ['112/09/08', '16,702,110', '8,980,038,278', '535.00', '540.00', '535.00', '539.00', '-3.00', '36,672'], ['112/09/11', '15,540,773', '8,348,107,210', '539.00', '540.00', '536.00', '536.00', '-3.00', '31,155'], ['112/09/12', '17,135,765', '9,268,673,682', '536.00', '545.00', '536.00', '544.00', '+8.00', '20,545'], ['112/09/13', '16,836,487', '9,146,776,791', '545.00', '548.00', '541.00', '541.00', '-3.00', '18,111'], ['112/09/14', '18,377,284', '10,058,129,685', '544.00', '550.00', '543.00', '550.00', 'X0.00', '19,037'], ['112/09/15', '44,681,949', '24,818,735,444', '549.00', '558.00', '547.00', '558.00', '+8.00', '18,023'], ['112/09/18', '40,148,161', '21,843,932,948', '548.00', '549.00', '540.00', '540.00', '-18.00', '58,958'], ['112/09/19', '21,099,739', '11,374,956,906', '539.00', '543.00', '538.00', '538.00', '-2.00', '45,323'], ['112/09/20', '28,098,535', '15,065,407,249', '536.00', '538.00', '535.00', '535.00', '-3.00', '50,355'], ['112/09/21', '35,984,810', '19,006,048,743', '530.00', '531.00', '526.00', '527.00', '-8.00', '96,356'], ['112/09/22', '33,499,481', '17,519,111,007', '523.00', '525.00', '522.00', '522.00', '-5.00', '68,488'], ['112/09/25', '17,673,374', '9,285,699,418', '522.00', '529.00', '522.00', '525.00', '+3.00', '23,431']]\n"
          ]
        }
      ],
      "source": [
        "from datetime import datetime\n",
        "import requests\n",
        "import sqlite3\n",
        "\n",
        "response = requests.get(f'https://www.twse.com.tw/rwd/zh/afterTrading/STOCK_DAY?date=20230920&stockNo=2330')\n",
        "response_data = response.json()['data']\n",
        "\n",
        "print(response_data)"
      ]
    },
    {
      "cell_type": "code",
      "source": [
        "#取得當日成交資訊: 透過迴圈讀取，並判斷\n",
        "result = [data for index, data in enumerate(response_data) if '112/09/20' in response_data[index]]\n",
        "result"
      ],
      "metadata": {
        "colab": {
          "base_uri": "https://localhost:8080/"
        },
        "id": "JO7Qc_Zp-2cI",
        "outputId": "40b6c40e-2e32-494d-9837-a52c734cf248"
      },
      "execution_count": null,
      "outputs": [
        {
          "output_type": "execute_result",
          "data": {
            "text/plain": [
              "[['112/09/20',\n",
              "  '28,098,535',\n",
              "  '15,065,407,249',\n",
              "  '536.00',\n",
              "  '538.00',\n",
              "  '535.00',\n",
              "  '535.00',\n",
              "  '-3.00',\n",
              "  '50,355']]"
            ]
          },
          "metadata": {},
          "execution_count": 13
        }
      ]
    },
    {
      "cell_type": "markdown",
      "source": [
        "- 取得當日成交資訊: 使用datetime模組來取得當下的日期與指定格式\n",
        "- 將請求網址date日期參數、與民國日期改為使用變數的方式帶入"
      ],
      "metadata": {
        "id": "fffoY7My0Uo2"
      }
    },
    {
      "cell_type": "code",
      "source": [
        "today = datetime.now().strftime('%Y%m%d')  #西元年(yyyymmdd)\n",
        "chinese_today = f\"{(datetime.now().year - 1911)}/{datetime.now().strftime('%m/%d')}\"  #民國年(yyy/mm/dd)\n",
        "\n",
        "response = requests.get(\n",
        "    f'https://www.twse.com.tw/exchangeReport/STOCK_DAY?response=date={today}&stockNo=2330')\n",
        "response_data = response.json()['data']\n",
        "\n",
        "result = [data for index, data in enumerate(response_data) if chinese_today in response_data[index]]\n",
        "\n",
        "print(result)"
      ],
      "metadata": {
        "colab": {
          "base_uri": "https://localhost:8080/"
        },
        "id": "8hr_kQMRx4kz",
        "outputId": "65f06f27-48bc-4cac-c81f-14b1bdde3b31"
      },
      "execution_count": null,
      "outputs": [
        {
          "output_type": "stream",
          "name": "stdout",
          "text": [
            "[['112/09/25', '17,673,374', '9,285,699,418', '522.00', '529.00', '522.00', '525.00', '+3.00', '23,431']]\n"
          ]
        }
      ]
    },
    {
      "cell_type": "markdown",
      "source": [
        "- 為了方便後續的資料識別，所以當日如果有成交資料的話，則在串列(List)中的第一個位置增加股票代碼："
      ],
      "metadata": {
        "id": "H21mmqNU0POn"
      }
    },
    {
      "cell_type": "code",
      "source": [
        "today = datetime.now().strftime('%Y%m%d')  #西元年(yyyymmdd)\n",
        "chinese_today = f\"{(datetime.now().year - 1911)}/{datetime.now().strftime('%m/%d')}\"  #民國年(yyy/mm/dd)\n",
        "\n",
        "response = requests.get(\n",
        "    f'https://www.twse.com.tw/exchangeReport/STOCK_DAY?response=date={today}&stockNo=2330')\n",
        "response_data = response.json()['data']\n",
        "\n",
        "result = [data for index, data in enumerate(response_data) if chinese_today in response_data[index]]\n",
        "\n",
        "if result:  #如果有資料\n",
        "    result[0].insert(0, '2330')\n",
        "\n",
        "print(result)"
      ],
      "metadata": {
        "colab": {
          "base_uri": "https://localhost:8080/"
        },
        "id": "IMLuyRuBypLj",
        "outputId": "94fffc43-6918-49f2-a1f4-cbd4b83477dd"
      },
      "execution_count": null,
      "outputs": [
        {
          "output_type": "stream",
          "name": "stdout",
          "text": [
            "[['2330', '112/09/25', '17,673,374', '9,285,699,418', '522.00', '529.00', '522.00', '525.00', '+3.00', '23,431']]\n"
          ]
        }
      ]
    },
    {
      "cell_type": "markdown",
      "source": [
        "###  **建置SQLite資料庫，Python網頁爬蟲讀取資料庫**"
      ],
      "metadata": {
        "id": "BJGUPJUU8Uz5"
      }
    },
    {
      "cell_type": "markdown",
      "source": [
        "- downlaod \"DB Browser for SQLite\"\n",
        "- SQLite資料庫建置完成後，開啟app.py檔案，利用sqlite3模組連接與設定撈取StockNumbers資料表中的StockNo欄位資料SQL指令"
      ],
      "metadata": {
        "id": "cppHF2uk0tBR"
      }
    },
    {
      "cell_type": "code",
      "source": [
        "from datetime import datetime\n",
        "import requests\n",
        "import sqlite3\n",
        "\n",
        "today = datetime.now().strftime('%Y%m%d')  #西元年(yyyymmdd)\n",
        "chinese_today = f\"{(datetime.now().year - 1911)}/{datetime.now().strftime('%m/%d')}\"  #民國年(yyy/mm/dd)\n",
        "\n",
        "conn = sqlite3.connect('Stock.db')\n",
        "cursor = conn.cursor()\n",
        "cursor.execute('SELECT StockNo FROM StockNumbers')\n",
        "\n",
        "response = requests.get(\n",
        "    f'https://www.twse.com.tw/exchangeReport/STOCK_DAY?response=json&date={today}&stockNo=2330')\n",
        "response_data = response.json()['data']\n",
        "\n",
        "result = [data for index, data in enumerate(response_data) if chinese_today in response_data[index]]\n",
        "\n",
        "if result:  #如果有資料\n",
        "    result[0].insert(0, '2330')\n",
        "\n",
        "print(result)"
      ],
      "metadata": {
        "colab": {
          "base_uri": "https://localhost:8080/"
        },
        "id": "hVcYiHZF0jnS",
        "outputId": "e6f3fee6-e528-4546-b25d-1019e4cb21d9"
      },
      "execution_count": null,
      "outputs": [
        {
          "output_type": "stream",
          "name": "stdout",
          "text": [
            "[['2330', '112/09/25', '17,673,374', '9,285,699,418', '522.00', '529.00', '522.00', '525.00', '+3.00', '23,431']]\n"
          ]
        }
      ]
    },
    {
      "cell_type": "markdown",
      "source": [
        "- 呼叫sqlite3模組的 fetchall( ) 方法，執行撈取StockNo欄位的所有股票代碼資料SQL指令\n",
        "- 並透過迴圈來進行讀取與替換既有的股票代碼"
      ],
      "metadata": {
        "id": "pV9dtXIJPXTA"
      }
    },
    {
      "cell_type": "code",
      "source": [
        "conn = sqlite3.connect('Stock.db')\n",
        "cursor = conn.cursor()\n",
        "cursor.execute('SELECT StockNo FROM StockNumbers')\n",
        "\n",
        "for stock_no in cursor.fetchall():\n",
        "    response = requests.get(f'https://www.twse.com.tw/exchangeReport/STOCK_DAY?response=json&date={today}&stockNo={stock_no[0]}')\n",
        "    response_data = response.json()['data']\n",
        "\n",
        "    result = [data for index, data in enumerate(response_data) if chinese_today in response_data[index]]\n",
        "\n",
        "    if result:  #如果有資料\n",
        "\t    result[0].insert(0, stock_no[0])\n",
        "\n",
        "print(result)"
      ],
      "metadata": {
        "colab": {
          "base_uri": "https://localhost:8080/"
        },
        "id": "umXuA5uVPYEE",
        "outputId": "7c0caff2-ac11-4cff-e628-6715953ce5de"
      },
      "execution_count": null,
      "outputs": [
        {
          "output_type": "stream",
          "name": "stdout",
          "text": [
            "[[2409, '112/09/25', '11,874,838', '198,222,528', '16.70', '16.80', '16.60', '16.70', '+0.05', '3,403']]\n"
          ]
        }
      ]
    },
    {
      "cell_type": "markdown",
      "source": [
        "- 最後，為了讓三個股票代碼資料能夠存放在同一個串列(List)中，所以另外定義了combined串列(List)，加入Python網頁爬蟲爬取的所有股票代碼資料"
      ],
      "metadata": {
        "id": "lKc2zcThdFkl"
      }
    },
    {
      "cell_type": "code",
      "source": [
        "from datetime import datetime\n",
        "import requests\n",
        "import sqlite3\n",
        "\n",
        "\n",
        "today = datetime.now().strftime('%Y%m%d')  #西元年(yyyymmdd)\n",
        "chinese_today = f\"{(datetime.now().year - 1911)}/{datetime.now().strftime('%m/%d')}\"  #民國年(yyy/mm/dd)\n",
        "\n",
        "conn = sqlite3.connect('Stock.db')\n",
        "cursor = conn.cursor()\n",
        "cursor.execute('SELECT StockNo FROM StockNumbers')\n",
        "\n",
        "combined = []  #合併結果\n",
        "for stock_no in cursor.fetchall():\n",
        "    response = requests.get(f'https://www.twse.com.tw/exchangeReport/STOCK_DAY?response=json&date={today}&stockNo={stock_no[0]}')\n",
        "    response_data = response.json()['data']\n",
        "\n",
        "    result = [data for index, data in enumerate(response_data) if chinese_today in response_data[index]]\n",
        "\n",
        "    if result:  #如果有資料\n",
        "      result[0].insert(0, stock_no[0])\n",
        "      combined.append(result[0])\n",
        "\n",
        "print(combined)"
      ],
      "metadata": {
        "colab": {
          "base_uri": "https://localhost:8080/"
        },
        "id": "kG6KoO3w7X8i",
        "outputId": "56af1700-06ab-4b90-eb40-b612e568124f"
      },
      "execution_count": null,
      "outputs": [
        {
          "output_type": "stream",
          "name": "stdout",
          "text": [
            "[[2330, '112/09/25', '17,673,374', '9,285,699,418', '522.00', '529.00', '522.00', '525.00', '+3.00', '23,431'], [2382, '112/09/25', '38,984,310', '8,811,557,891', '227.50', '228.00', '222.50', '226.00', '-1.50', '28,692'], [2409, '112/09/25', '11,874,838', '198,222,528', '16.70', '16.80', '16.60', '16.70', '+0.05', '3,403']]\n"
          ]
        }
      ]
    }
  ]
}